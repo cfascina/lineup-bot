{
 "cells": [
  {
   "cell_type": "code",
   "execution_count": 12,
   "metadata": {},
   "outputs": [],
   "source": [
    "import configparser\n",
    "import json\n",
    "import requests"
   ]
  },
  {
   "cell_type": "code",
   "execution_count": 13,
   "metadata": {},
   "outputs": [
    {
     "data": {
      "text/plain": [
       "['config.ini']"
      ]
     },
     "execution_count": 13,
     "metadata": {},
     "output_type": "execute_result"
    }
   ],
   "source": [
    "config = configparser.ConfigParser()\n",
    "config.read('config.ini')"
   ]
  },
  {
   "cell_type": "code",
   "execution_count": 14,
   "metadata": {},
   "outputs": [],
   "source": [
    "def get_current_round():\n",
    "    url = config['APIS']['status']\n",
    "    req = requests.get(url)\n",
    "\n",
    "    return req.json()['rodada_atual']"
   ]
  },
  {
   "cell_type": "code",
   "execution_count": 15,
   "metadata": {},
   "outputs": [],
   "source": [
    "def get_data():\n",
    "\treq = requests.get(config['APIS']['lineups'])\n",
    "\t\n",
    "\treturn req.json()"
   ]
  },
  {
   "cell_type": "code",
   "execution_count": 16,
   "metadata": {},
   "outputs": [],
   "source": [
    "def get_lineup(data, team_type, round_id):\n",
    "\tlineup = {}\n",
    "\t\n",
    "\tfor player in data[team_type][round_id]:\n",
    "\t\tlineup[int(player['player_id'])] = {\n",
    "\t\t\t\"name\": player['player_name'],\n",
    "\t\t\t\"position\": player['position'],\n",
    "\t\t\t\"position_id\": player['position_id'],\n",
    "\t\t\t\"club\": player['club_name'],\n",
    "\t\t\t\"starting\": True if player['titular'] == 1 else False,\n",
    "\t\t\t\"captain\": True if player['captain'] == 1 else False\n",
    "\t}\n",
    "\t\n",
    "\treturn lineup"
   ]
  },
  {
   "cell_type": "code",
   "execution_count": 17,
   "metadata": {},
   "outputs": [],
   "source": [
    "def set_payload(scheme_id, lineup):\n",
    "    payload = {\n",
    "        \"esquema\": scheme_id,\n",
    "        \"atletas\": [],\n",
    "        \"capitao\": None,\n",
    "        \"reservas\": {}\n",
    "    }\n",
    "\n",
    "    for player_id, data in lineup.items():    \n",
    "        payload[\"atletas\"].append(player_id) if data['starting'] else None\n",
    "        payload[\"capitao\"] = player_id if data['captain'] and payload.get(\"capitao\") is None else payload.get(\"capitao\")\n",
    "\n",
    "        if not data['starting']:\n",
    "            payload[\"reservas\"][str(data['position_id'])] = player_id\n",
    "\n",
    "    return payload"
   ]
  },
  {
   "cell_type": "code",
   "execution_count": 18,
   "metadata": {},
   "outputs": [],
   "source": [
    "def show_team(team_type, scheme_id, lineup):\n",
    "    schemes = {1: \"3-4-3\", 2: \"3-5-2\", 3: \"4-3-3\", 4: \"4-4-2\", 5: \"4-5-1\", 6: \"5-3-2\", 7: \"5-4-1\"}\n",
    "    print(f\"{team_type.replace('_', ' ').upper()} ({schemes.get(scheme_id)})\")\n",
    "\n",
    "    positions = ['TEC', 'GOL', 'LAT', 'ZAG', 'MEI', 'ATA']\n",
    "    players = []\n",
    "    substitutes = []\n",
    "\n",
    "    for player, data in lineup.items():\n",
    "        if data['starting']:\n",
    "            players.append([\n",
    "                data['position'],\n",
    "                True if data['captain'] else False,\n",
    "                data['name'],\n",
    "                data['club']\n",
    "        ])\n",
    "        else:\n",
    "            substitutes.append([\n",
    "                data['position'],\n",
    "                False,\n",
    "                data['name'],\n",
    "                data['club']\n",
    "        ])\n",
    "\n",
    "    players = sorted(players, key = lambda x: positions.index(x[0]))\n",
    "    substitutes = sorted(substitutes, key = lambda x: positions.index(x[0]))\n",
    "    players.extend(substitutes)\n",
    "\n",
    "    for i, player in enumerate(players):\n",
    "        print('\\nTITULARES') if i == 0 else None\n",
    "        print('\\nRESERVAS') if i == 12 else None\n",
    "        print(f\"({player[0]}) {'[C]' if player[1] else '[ ]'} {player[2]} - {player[3]}\")\n",
    "    \n",
    "    print('-' * 50)"
   ]
  },
  {
   "cell_type": "code",
   "execution_count": 19,
   "metadata": {},
   "outputs": [],
   "source": [
    "def set_lineup(team_type, payload):\n",
    "\ttoken = config['TEAM_KEYS']['valuation'] if team_type == 'time_valorizacao' else config['TEAM_KEYS']['scoring']\n",
    "\tparams = {\n",
    "\t\t'Content-Type': 'application/json',\n",
    "\t\t'Authorization': f\"Bearer {token}\"\n",
    "\t}\n",
    "\n",
    "\ttry:\n",
    "\t\tprint(f\"Escalando time {team_type}...\")\n",
    "\t\tpost = requests.post(url = config['APIS']['save'], json = payload, headers = params)\n",
    "\texcept Exception as e:\n",
    "\t\tprint(e)\n",
    "\n",
    "\treturn post"
   ]
  },
  {
   "cell_type": "code",
   "execution_count": 20,
   "metadata": {},
   "outputs": [],
   "source": [
    "current_round = get_current_round()"
   ]
  },
  {
   "cell_type": "code",
   "execution_count": 21,
   "metadata": {},
   "outputs": [],
   "source": [
    "data = get_data()"
   ]
  },
  {
   "cell_type": "code",
   "execution_count": 22,
   "metadata": {},
   "outputs": [
    {
     "name": "stdout",
     "output_type": "stream",
     "text": [
      "Escalando time time_valorizacao...\n",
      "Falha ao escalar time: 409 / Não é possível escalar o time com o game nesse estado.\n",
      "Escalando time selecao_do_guru...\n",
      "Falha ao escalar time: 409 / Não é possível escalar o time com o game nesse estado.\n"
     ]
    }
   ],
   "source": [
    "for team_type in ['time_valorizacao', 'selecao_do_guru']:\n",
    "\trounds = data[team_type].keys()\n",
    "\tround_id = str(max(list(map(int, rounds))))\n",
    "\tscheme_id = data[team_type][round_id][0]['esquema_id']\n",
    "\tlineup = get_lineup(data, team_type, round_id)\n",
    "\tpayload = set_payload(scheme_id, lineup)\t\n",
    "\tpost = set_lineup(team_type, payload)\n",
    "\n",
    "\tif post.ok:\n",
    "\t\tprint(f\"Time escalado com sucesso.\") \n",
    "\t\tshow_team(team_type, scheme_id, lineup)\n",
    "\telse:\n",
    "\t\tresponse = json.loads(post.content.decode('utf-8'))\n",
    "\t\tprint(f\"Falha ao escalar time: {post.status_code} / {response['mensagem']}\")\n",
    "\t"
   ]
  }
 ],
 "metadata": {
  "kernelspec": {
   "display_name": ".venv",
   "language": "python",
   "name": "python3"
  },
  "language_info": {
   "codemirror_mode": {
    "name": "ipython",
    "version": 3
   },
   "file_extension": ".py",
   "mimetype": "text/x-python",
   "name": "python",
   "nbconvert_exporter": "python",
   "pygments_lexer": "ipython3",
   "version": "3.11.6"
  }
 },
 "nbformat": 4,
 "nbformat_minor": 2
}
