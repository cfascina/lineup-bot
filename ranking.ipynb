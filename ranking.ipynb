{
 "cells": [
  {
   "cell_type": "code",
   "execution_count": null,
   "metadata": {},
   "outputs": [],
   "source": [
    "import configparser\n",
    "import pandas as pd\n",
    "import requests"
   ]
  },
  {
   "cell_type": "code",
   "execution_count": null,
   "metadata": {},
   "outputs": [],
   "source": [
    "config = configparser.ConfigParser()\n",
    "config.read('config.ini')"
   ]
  },
  {
   "cell_type": "code",
   "execution_count": null,
   "metadata": {},
   "outputs": [],
   "source": [
    "def get_status():\n",
    "\turl = f\"{config['APIS']['status']}\"\n",
    "\treq = requests.get(url)\n",
    "\tstatus = req.json()['status_mercado']\n",
    "\tcurrent_round = req.json()['rodada_atual']\n",
    "\t\n",
    "\treturn status, current_round"
   ]
  },
  {
   "cell_type": "code",
   "execution_count": null,
   "metadata": {},
   "outputs": [],
   "source": [
    "def get_round_data(team_id, round_id):\n",
    "\turl = f\"{config['APIS']['team']}/{team_id}/{round_id}\"\n",
    "\treq = requests.get(url)\n",
    "\tteam_name = req.json()['time']['nome']\n",
    "\tpoints = req.json()['pontos']\n",
    "\t\n",
    "\treturn team_name, points"
   ]
  },
  {
   "cell_type": "code",
   "execution_count": null,
   "metadata": {},
   "outputs": [],
   "source": [
    "def get_results(teams, current_round, status):\n",
    "\tresults = {}\n",
    "\n",
    "\tfor team_id in teams:\n",
    "\t\tresults[team_id] = {}\n",
    "\t\t\n",
    "\t\tfor round_id in range(20, 39):\n",
    "\t\t\tif round_id < current_round:\n",
    "\t\t\t\tif round_id == current_round and status != 1:\n",
    "\t\t\t\t\tpass\n",
    "\t\t\t\telse:\n",
    "\t\t\t\t\tteam_name, points = get_round_data(team_id, round_id)\n",
    "\t\t\t\t\t\n",
    "\t\t\t\t\tif 'name' not in results[team_id]:\n",
    "\t\t\t\t\t\tresults[team_id]['name'] = team_name\n",
    "\t\t\t\t\t\tresults[team_id]['points'] = {}\n",
    "\t\t\t\t\t\n",
    "\t\t\t\t\tresults[team_id]['points'][round_id] = points\n",
    "\n",
    "\treturn results"
   ]
  },
  {
   "cell_type": "code",
   "execution_count": null,
   "metadata": {},
   "outputs": [],
   "source": [
    "def set_dataframe(results):\n",
    "\trows = []\n",
    "\n",
    "\tfor key, value in results.items():\n",
    "\t\tname = value['name']\n",
    "\t\tfor round_number, points in value['points'].items():\n",
    "\t\t\trows.append({'name': name, 'round': round_number, 'points': points})\n",
    "\t\t\t\n",
    "\tdf = pd.DataFrame(rows)\n",
    "\tdf_pivoted = df.pivot(index = 'name', columns = 'round', values = 'points')\n",
    "\tdf_pivoted.columns = [f\"#{col}\" for col in df_pivoted.columns]\n",
    "\tdf_pivoted.reset_index(inplace = True)\n",
    "\n",
    "\treturn df_pivoted"
   ]
  },
  {
   "cell_type": "code",
   "execution_count": null,
   "metadata": {},
   "outputs": [],
   "source": [
    "def organize_dataframe(df):\n",
    "\tcols_rounds = df.select_dtypes(include = 'number').columns.tolist()\n",
    "\tdf['total'] = df[cols_rounds].sum(axis = 1)\n",
    "\n",
    "\tdf_cols = df.columns.tolist()\n",
    "\tdf_cols.insert(df_cols.index('name') + 1, df_cols.pop(df_cols.index('total')))\n",
    "\tdf = df[df_cols]\n",
    "\n",
    "\tdf = df.sort_values(by='total', ascending = False).reset_index(drop = True)\n",
    "\tdf.index += 1\n",
    "\n",
    "\treturn df"
   ]
  },
  {
   "cell_type": "code",
   "execution_count": null,
   "metadata": {},
   "outputs": [],
   "source": [
    "status, current_round = get_status()"
   ]
  },
  {
   "cell_type": "code",
   "execution_count": null,
   "metadata": {},
   "outputs": [],
   "source": [
    "teams = ['204740', '2233005', '1185983', '8168228', '14565087', '13915560', '13952016', '18120927', '19558186', '47811882', '48532230']"
   ]
  },
  {
   "cell_type": "code",
   "execution_count": null,
   "metadata": {},
   "outputs": [],
   "source": [
    "results = get_results(teams, current_round, status)"
   ]
  },
  {
   "cell_type": "code",
   "execution_count": null,
   "metadata": {},
   "outputs": [],
   "source": [
    "# results"
   ]
  },
  {
   "cell_type": "code",
   "execution_count": null,
   "metadata": {},
   "outputs": [],
   "source": [
    "df = set_dataframe(results)"
   ]
  },
  {
   "cell_type": "code",
   "execution_count": null,
   "metadata": {},
   "outputs": [],
   "source": [
    "df = organize_dataframe(df)"
   ]
  },
  {
   "cell_type": "code",
   "execution_count": null,
   "metadata": {},
   "outputs": [],
   "source": [
    "df"
   ]
  },
  {
   "cell_type": "code",
   "execution_count": null,
   "metadata": {},
   "outputs": [],
   "source": [
    "# import matplotlib.pyplot as plt\n",
    "\n",
    "# # Configurações para o plot\n",
    "# fig, ax = plt.subplots(figsize = (4, 2))  # Ajuste o tamanho conforme necessário\n",
    "# ax.axis('tight')\n",
    "# ax.axis('off')\n",
    "\n",
    "# # Criar tabela\n",
    "# tbl = pd.plotting.table(ax, df, loc = 'center', cellLoc = 'center', colWidths = [.5] * len(df.columns))\n",
    "\n",
    "# # Salvar como imagem\n",
    "# # plt.savefig('results.png', bbox_inches='tight', dpi=300)"
   ]
  }
 ],
 "metadata": {
  "kernelspec": {
   "display_name": ".venv",
   "language": "python",
   "name": "python3"
  },
  "language_info": {
   "codemirror_mode": {
    "name": "ipython",
    "version": 3
   },
   "file_extension": ".py",
   "mimetype": "text/x-python",
   "name": "python",
   "nbconvert_exporter": "python",
   "pygments_lexer": "ipython3",
   "version": "3.10.12"
  }
 },
 "nbformat": 4,
 "nbformat_minor": 2
}
